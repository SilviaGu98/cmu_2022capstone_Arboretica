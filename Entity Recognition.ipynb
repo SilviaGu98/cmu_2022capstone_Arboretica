{
 "cells": [
  {
   "cell_type": "code",
   "execution_count": 1,
   "metadata": {},
   "outputs": [],
   "source": [
    "import csv\n",
    "import spacy\n",
    "import en_core_web_sm\n",
    "from bs4 import BeautifulSoup\n",
    "import requests\n",
    "import re"
   ]
  },
  {
   "cell_type": "code",
   "execution_count": 2,
   "metadata": {},
   "outputs": [],
   "source": [
    "# get all the distict urls in the train data\n",
    "urls = set()\n",
    "train_compA_compB_url = []\n",
    "with open(\"./train_data_arboretica.csv\",'r', encoding='UTF-8') as file:\n",
    "    csv_reader = csv.reader(file)\n",
    "    next(csv_reader)  # skip the header\n",
    "    for row in csv_reader:\n",
    "        row_url = row[3]\n",
    "        train_compA_compB_url.append([row[0].lower(),row[1].lower(),row_url])\n",
    "        if ';' in row_url:\n",
    "            multiple_urls = row_url.split(';')  # split the urls which are combined together in train data\n",
    "            for x in multiple_urls:\n",
    "                urls.add(x)\n",
    "        else:\n",
    "            urls.add(row_url)\n",
    "urls = list(urls)"
   ]
  },
  {
   "cell_type": "code",
   "execution_count": 3,
   "metadata": {},
   "outputs": [
    {
     "name": "stdout",
     "output_type": "stream",
     "text": [
      "330\n",
      "277\n"
     ]
    }
   ],
   "source": [
    "print(len(train_compA_compB_url))  # number of training data\n",
    "print(len(urls)) # number of distinct urls"
   ]
  },
  {
   "cell_type": "code",
   "execution_count": 4,
   "metadata": {},
   "outputs": [],
   "source": [
    "def url_to_string(url):\n",
    "    res = requests.get(url)\n",
    "    html = res.text\n",
    "    soup = BeautifulSoup(html, 'html5lib')\n",
    "    for script in soup([\"script\", \"style\", 'aside']):\n",
    "        script.extract()\n",
    "    return \" \".join(re.split(r'[\\n\\t]+', soup.get_text()))"
   ]
  },
  {
   "cell_type": "code",
   "execution_count": 5,
   "metadata": {},
   "outputs": [],
   "source": [
    "nlp = spacy.load('en_core_web_sm', disable=[\"tok2vec\", \"tagger\", \"parser\", \"attribute_ruler\", \"lemmatizer\"])\n",
    "url_orgs = dict()\n",
    "for url in urls:\n",
    "    ny_bb = url_to_string(url)\n",
    "    article = nlp(ny_bb)\n",
    "    orgs = list(set([x.text.lower() for x in article.ents if x.label_ == 'ORG' and len(x.text) < 100]))\n",
    "    url_orgs[url] = orgs"
   ]
  },
  {
   "cell_type": "code",
   "execution_count": 6,
   "metadata": {
    "scrolled": false
   },
   "outputs": [],
   "source": [
    "failure = 0\n",
    "failure_data = [] # store unrecognized training data entities\n",
    "for data in train_compA_compB_url:  # check whether both company A and B were recognized in the corresponding article \n",
    "    company_list = []\n",
    "    if ';' in data[2]:\n",
    "        for url_1 in data[2].split(';'):\n",
    "            company_list += url_orgs[url_1]\n",
    "    else: \n",
    "        company_list += url_orgs[data[2]]\n",
    "        \n",
    "    # some company names are shorter in the traning data than in the original article, \n",
    "    # for example, 'fortino capital' in training data vs 'fortino capital partners' in the article\n",
    "    companies = \",\".join(company_list)  \n",
    "    if data[0] not in companies or data[1] not in companies:\n",
    "        failure_data.append([data[0],data[1],data[2],companies])\n",
    "        failure += 1"
   ]
  },
  {
   "cell_type": "code",
   "execution_count": 7,
   "metadata": {},
   "outputs": [
    {
     "name": "stdout",
     "output_type": "stream",
     "text": [
      "Number of unrecognized training data: 127\n",
      "Number of training data: 330\n",
      "True Positive Rate: 0.6151515151515152\n"
     ]
    }
   ],
   "source": [
    "print('Number of unrecognized training data: ' + (str) (failure))\n",
    "print('Number of training data: ' + (str) (len(train_compA_compB_url)))\n",
    "print('True Positive Rate: ' + (str) (1 - failure/len(train_compA_compB_url)))"
   ]
  },
  {
   "cell_type": "code",
   "execution_count": 8,
   "metadata": {},
   "outputs": [
    {
     "name": "stdout",
     "output_type": "stream",
     "text": [
      "Number of failed requests to get html: 11\n"
     ]
    }
   ],
   "source": [
    "# some data could not be recognized because the request of getting html was blocked\n",
    "print('Number of failed requests to get html: ' + (str) (len([x for x in url_orgs.values() if len(x)==0])))"
   ]
  },
  {
   "cell_type": "code",
   "execution_count": 9,
   "metadata": {},
   "outputs": [
    {
     "name": "stdout",
     "output_type": "stream",
     "text": [
      "Company A: fortino capital\n",
      "Company B: newion\n",
      "Url: https://www.eu-startups.com/2021/07/luxembourg-based-salonkee-raises-e6-2-million-for-the-european-expansion-of-it-beauty-salon-reservations-software/\n",
      "Recognized entities: ecoligo,fortino capital,tattoodo,wizata nabs,eu-startups     sign,holidu,outthink,expon capital,co-founder,mission / team advertising our newsletter,gravitee.io,tripadmit,flappin’,ai june 2,thomas ohrthomas ohr,api,edition job board job board post,denmark-startups   copenhagen,salonkee\n",
      "\n",
      "Company A: fortino capital\n",
      "Company B: charles souillard\n",
      "Url: https://finance.yahoo.com/news/bonitasoft-exceeds-2021-forecast-revenue-131500489.html\n",
      "Recognized entities: \n",
      "\n",
      "Company A: fortino capital\n",
      "Company B: miguel valdes\n",
      "Url: https://finance.yahoo.com/news/bonitasoft-exceeds-2021-forecast-revenue-131500489.html\n",
      "Recognized entities: \n",
      "\n",
      "Company A: fortino capital\n",
      "Company B: autodesk\n",
      "Url: https://tech.eu/2021/01/15/oqton-funding\n",
      "Recognized entities: cnc,cam,fortino capital,newsletter,kantox,truecaller,robin wauters news news,pitch, eventbrite,plm,weekly newsletter event announcements daily newsletter,tech.eu jobs our services contact,all rights reserved,european tech,features/profiles   belgium betech industry 4.0,insights podcasts premium,mes,iot,hanna,mason keep,write comment belgium's,dbt,pmv,proprioo,ipo,cad,qms,next,sandvik,review advantageous packages does\n",
      "\n",
      "Company A: fortino capital\n",
      "Company B: melita\n",
      "Url: https://www.capacitymedia.com/articles/3824316/eqt-adds-to-telecoms-portfolio-by-buying-german-fibre-network-inexio-for-1bn\n",
      "Recognized entities: cloudfront\n",
      "\n"
     ]
    }
   ],
   "source": [
    "# examples of entities that were not recognized\n",
    "for i in range(5):\n",
    "    print('Company A: ' + failure_data[i][0])\n",
    "    print('Company B: ' + failure_data[i][1])\n",
    "    print('Url: ' + failure_data[i][2])\n",
    "    print('Recognized entities: ' + failure_data[i][3] + '\\n')"
   ]
  },
  {
   "cell_type": "code",
   "execution_count": null,
   "metadata": {},
   "outputs": [],
   "source": []
  }
 ],
 "metadata": {
  "kernelspec": {
   "display_name": "Python 3",
   "language": "python",
   "name": "python3"
  },
  "language_info": {
   "codemirror_mode": {
    "name": "ipython",
    "version": 3
   },
   "file_extension": ".py",
   "mimetype": "text/x-python",
   "name": "python",
   "nbconvert_exporter": "python",
   "pygments_lexer": "ipython3",
   "version": "3.8.5"
  }
 },
 "nbformat": 4,
 "nbformat_minor": 4
}
