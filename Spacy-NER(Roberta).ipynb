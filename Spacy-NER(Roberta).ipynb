In this notebook, we used spaCy with roberta to perform the named entity recognition (NER) task and used the evaluation result as our baseline model performance.
{
 "cells": [
  {
   "cell_type": "code",
   "execution_count": 1,
   "metadata": {},
   "outputs": [],
   "source": [
    "import pandas as pd\n",
    "import numpy as np\n",
    "import spacy\n",
    "from sklearn.metrics import f1_score, precision_score, recall_score, accuracy_score"
   ]
  },
  {
   "cell_type": "code",
   "execution_count": 53,
   "metadata": {},
   "outputs": [],
   "source": [
    "data = pd.read_csv('train_data_arboretica.csv')"
   ]
  },
  {
   "cell_type": "code",
   "execution_count": 54,
   "metadata": {},
   "outputs": [],
   "source": [
    "data = data.sort_values(['Sentence', 'Company A', 'Company B'])\n",
    "all_sentences = data['Sentence'].tolist()\n",
    "company_a = data['Company A'].tolist()\n",
    "company_a = [co.strip() for co in company_a]\n",
    "company_b = data['Company B'].tolist()\n",
    "company_b = [co.strip() for co in company_b]"
   ]
  },
  {
   "cell_type": "code",
   "execution_count": 55,
   "metadata": {},
   "outputs": [],
   "source": [
    "'''\n",
    "In the provided dataset, some examples share the same sentence.\n",
    "For the NER task, we need to combine those examples and label all organizations that occur in the same sentence.\n",
    "'''\n",
    "orgs = []\n",
    "sent_orgs = set([company_a[0], company_b[0]])\n",
    "sentences = [all_sentences[0].strip()]\n",
    "for i, sent in enumerate(all_sentences):\n",
    "    if i == 0:\n",
    "        continue\n",
    "    if sent != all_sentences[i - 1]:\n",
    "        sentences.append(sent.strip())\n",
    "        assert(len(sent_orgs) >= 2)\n",
    "        orgs.append(sent_orgs)\n",
    "        sent_orgs = set()\n",
    "    sent_orgs.add(company_a[i])\n",
    "    sent_orgs.add(company_b[i])\n",
    "assert(len(sent_orgs) >= 2)\n",
    "orgs.append(sent_orgs)\n",
    "assert(len(sentences) == len(orgs))"
   ]
  },
  {
   "cell_type": "code",
   "execution_count": 56,
   "metadata": {},
   "outputs": [
    {
     "name": "stderr",
     "output_type": "stream",
     "text": [
      "Token indices sequence length is longer than the specified maximum sequence length for this model (651 > 512). Running this sequence through the model will result in indexing errors\n"
     ]
    }
   ],
   "source": [
    "roberta_nlp  = spacy.load('en_core_web_trf', disable=['tok2vec','tagger','parser','attribute_ruler','lemmatizer'])\n",
    "rec_ents = []\n",
    "for sent in sentences:\n",
    "    processed = roberta_nlp(sent)\n",
    "    organizations = list(set([x.text.strip() for x in processed.ents if x.label_ == 'ORG']))\n",
    "    rec_ents.append(organizations)\n",
    "assert(len(rec_ents) == len(orgs))"
   ]
  },
  {
   "cell_type": "code",
   "execution_count": 57,
   "metadata": {},
   "outputs": [],
   "source": [
    "tp = 0\n",
    "fp = 0\n",
    "fn = 0\n",
    "for (entities, companies) in zip(rec_ents, orgs):\n",
    "    cur_tp = 0\n",
    "    for comp in companies:\n",
    "        if(comp not in entities):\n",
    "            fn += 1\n",
    "        else:\n",
    "            cur_tp += 1\n",
    "            tp += 1\n",
    "    assert(len(entities) >= cur_tp)\n",
    "    fp += (len(entities) - cur_tp)"
   ]
  },
  {
   "cell_type": "code",
   "execution_count": 58,
   "metadata": {},
   "outputs": [
    {
     "name": "stdout",
     "output_type": "stream",
     "text": [
      "True Postive is 416\n",
      "False Postive is 1000\n",
      "False Negative is 174\n"
     ]
    }
   ],
   "source": [
    "print(f\"True Postive is {tp}\")\n",
    "print(f\"False Postive is {fp}\")\n",
    "print(f\"False Negative is {fn}\")"
   ]
  },
  {
   "cell_type": "code",
   "execution_count": 59,
   "metadata": {},
   "outputs": [],
   "source": [
    "precision = tp/(tp+fp)\n",
    "recall = tp/(tp+fn)\n",
    "f1 = 2 * (precision * recall) / (precision + recall)"
   ]
  },
  {
   "cell_type": "code",
   "execution_count": 60,
   "metadata": {},
   "outputs": [
    {
     "name": "stdout",
     "output_type": "stream",
     "text": [
      "When we use Spacy with Roberta, the permance of the model is: \n",
      "\n",
      "Recall is 0.7050847457627119\n",
      "Precision is 0.2937853107344633\n",
      "F1 score is 0.4147557328015953\n"
     ]
    }
   ],
   "source": [
    "print(\"When we use Spacy with Roberta, the permance of the model is: \\n\")\n",
    "print(f\"Recall is {recall}\")\n",
    "print(f\"Precision is {precision}\")\n",
    "print(f\"F1 score is {f1}\")"
   ]
  },
  {
   "cell_type": "code",
   "execution_count": null,
   "metadata": {},
   "outputs": [],
   "source": []
  }
 ],
 "metadata": {
  "kernelspec": {
   "display_name": "Python 3",
   "language": "python",
   "name": "python3"
  },
  "language_info": {
   "codemirror_mode": {
    "name": "ipython",
    "version": 3
   },
   "file_extension": ".py",
   "mimetype": "text/x-python",
   "name": "python",
   "nbconvert_exporter": "python",
   "pygments_lexer": "ipython3",
   "version": "3.8.5"
  }
 },
 "nbformat": 4,
 "nbformat_minor": 4
}
