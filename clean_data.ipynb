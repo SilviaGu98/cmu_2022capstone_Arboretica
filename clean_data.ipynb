{
 "cells": [
  {
   "cell_type": "code",
   "execution_count": 1,
   "metadata": {
    "collapsed": true,
    "pycharm": {
     "name": "#%%\n"
    }
   },
   "outputs": [],
   "source": [
    "import csv\n",
    "\n",
    "# csv file name\n",
    "filename = \"preprocess.csv\""
   ]
  },
  {
   "cell_type": "code",
   "execution_count": 15,
   "metadata": {
    "pycharm": {
     "name": "#%%\n"
    }
   },
   "outputs": [],
   "source": [
    "rows = []\n",
    "# reading csv file\n",
    "with open(filename, encoding='UTF-8') as csvfile:\n",
    "    # creating a csv reader object\n",
    "    csvreader = csv.reader(csvfile)\n",
    "    with open('data.csv', 'w', encoding='UTF-8', newline='') as f:\n",
    "        write = csv.writer(f)\n",
    "        # extracting each data row one by one\n",
    "        for row in csvreader:\n",
    "            entity_a = row[0]\n",
    "            entity_b = row[1]\n",
    "            phr = row[2]\n",
    "            # find entity A and B start and end index\n",
    "            a_start = phr.find(entity_a[:7])\n",
    "            a_end = a_start + len(entity_a) - 1\n",
    "            b_start = phr.find(entity_b[:7])\n",
    "            b_end = b_start + len(entity_b) - 1\n",
    "\n",
    "            start = []\n",
    "            end = []\n",
    "            start.append(0)\n",
    "            for i in range(len(phr)):\n",
    "                if phr[i] == ' ':\n",
    "                    start.append(i)\n",
    "                    end.append(i-1)\n",
    "            end.append(len(phr) - 1)\n",
    "\n",
    "            row.append(a_start)\n",
    "            row.append(a_end)\n",
    "            row.append(b_start)\n",
    "            row.append(b_end)\n",
    "            row.append(start)\n",
    "            row.append(end)\n",
    "            write.writerow(row)\n"
   ]
  },
  {
   "cell_type": "code",
   "execution_count": 12,
   "metadata": {
    "pycharm": {
     "name": "#%%\n"
    }
   },
   "outputs": [],
   "source": []
  },
  {
   "cell_type": "code",
   "execution_count": null,
   "metadata": {
    "pycharm": {
     "name": "#%%\n"
    }
   },
   "outputs": [],
   "source": []
  }
 ],
 "metadata": {
  "kernelspec": {
   "display_name": "Python 3 (ipykernel)",
   "language": "python",
   "name": "python3"
  },
  "language_info": {
   "codemirror_mode": {
    "name": "ipython",
    "version": 3
   },
   "file_extension": ".py",
   "mimetype": "text/x-python",
   "name": "python",
   "nbconvert_exporter": "python",
   "pygments_lexer": "ipython3",
   "version": "3.10.6"
  }
 },
 "nbformat": 4,
 "nbformat_minor": 1
}
