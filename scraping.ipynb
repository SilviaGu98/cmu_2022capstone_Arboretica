{
 "cells": [
  {
   "cell_type": "code",
   "execution_count": 99,
   "id": "6c9db741",
   "metadata": {},
   "outputs": [],
   "source": [
    "#! pip3 install newspaper3k\n",
    "import pandas as pd\n",
    "import newspaper as n\n",
    "from newspaper import Article\n",
    "from newspaper import Config\n",
    "import requests\n",
    "from newspaper.utils import BeautifulSoup\n",
    "from bs4 import BeautifulSoup\n",
    "user_agent = 'Mozilla/5.0 (Macintosh; Intel Mac OS X 10_11_5) AppleWebKit/537.36 (KHTML, like Gecko) Chrome/50.0.2661.102 Safari/537.36'\n",
    "config = Config()\n",
    "config.browser_user_agent = user_agent\n",
    "\n",
    "def scrape(url): \n",
    "\tresponse = requests.get(url) \n",
    "\tsoup = BeautifulSoup(response.text, \"html.parser\") \n",
    "\tl = soup.findAll('a',attrs={'class':\"post-thumbnail\"})\n",
    "\treturn [el.get('href') for el in l]\n"
   ]
  },
  {
   "cell_type": "code",
   "execution_count": 178,
   "id": "16b0b175",
   "metadata": {},
   "outputs": [],
   "source": [
    "#getting 50 urls from finsme, majority of them are financial relationships, some tech and people rs can be involved.\n",
    "parent_url_List = []\n",
    "parent_url_List.append('https://www.finsmes.com/')\n",
    "for i in range(2,50):\n",
    "    a = 'https://www.finsmes.com/older-posts/page/' + str(i)\n",
    "    parent_url_List.append(a)"
   ]
  },
  {
   "cell_type": "markdown",
   "id": "f353d46e",
   "metadata": {},
   "source": [
    "# Financial"
   ]
  },
  {
   "cell_type": "code",
   "execution_count": 151,
   "id": "b9795bfd",
   "metadata": {},
   "outputs": [],
   "source": [
    "\n",
    "#Testing Block\n",
    "test_url_list = url_List[:10]\n",
    "parent_url_List = []\n",
    "sub_url_list = []\n",
    "text_list = []\n",
    "summary_list = []\n",
    "\n",
    "\n",
    "\n",
    "for url in test_url_list:\n",
    "    l = scrape(url)\n",
    "    for suburl in l:\n",
    "        parent_url_List.append(url)\n",
    "        sub_url_list.append(suburl)\n",
    "        article = Article(suburl, config=config)\n",
    "        article.download()\n",
    "        article.html\n",
    "        article.parse()\n",
    "        article.nlp()\n",
    "        text_list.append(article.text)\n",
    "        summary_list.append(article.summary)\n"
   ]
  },
  {
   "cell_type": "code",
   "execution_count": 179,
   "id": "769ba8e4",
   "metadata": {},
   "outputs": [],
   "source": [
    "parent_url_list_df = []\n",
    "sub_url_list = []\n",
    "text_list = []\n",
    "summary_list = []\n",
    "\n",
    "for url in parent_url_List:\n",
    "    l = scrape(url)\n",
    "    for suburl in l:\n",
    "        parent_url_list_df.append(url)\n",
    "        sub_url_list.append(suburl)\n",
    "        article = Article(suburl, config=config)\n",
    "        article.download()\n",
    "        article.html\n",
    "        article.parse()\n",
    "        article.nlp()\n",
    "        text_list.append(article.text)\n",
    "        summary_list.append(article.summary)\n",
    "\n",
    "\n"
   ]
  },
  {
   "cell_type": "code",
   "execution_count": 180,
   "id": "a4eab797",
   "metadata": {},
   "outputs": [
    {
     "data": {
      "text/plain": [
       "733"
      ]
     },
     "execution_count": 180,
     "metadata": {},
     "output_type": "execute_result"
    }
   ],
   "source": [
    "len(set(sub_url_list))"
   ]
  },
  {
   "cell_type": "code",
   "execution_count": 181,
   "id": "a26ead74",
   "metadata": {},
   "outputs": [
    {
     "data": {
      "text/plain": [
       "733"
      ]
     },
     "execution_count": 181,
     "metadata": {},
     "output_type": "execute_result"
    }
   ],
   "source": [
    "len(set(text_list))"
   ]
  },
  {
   "cell_type": "code",
   "execution_count": 182,
   "id": "97c49753",
   "metadata": {},
   "outputs": [],
   "source": [
    "df = pd.DataFrame(list(zip(summary_list, text_list, sub_url_list, parent_url_list_df  )),\n",
    "               columns =['summary', 'full_text','url', 'parent_url'])\n"
   ]
  },
  {
   "cell_type": "code",
   "execution_count": 183,
   "id": "cf2325d2",
   "metadata": {},
   "outputs": [
    {
     "data": {
      "text/html": [
       "<div>\n",
       "<style scoped>\n",
       "    .dataframe tbody tr th:only-of-type {\n",
       "        vertical-align: middle;\n",
       "    }\n",
       "\n",
       "    .dataframe tbody tr th {\n",
       "        vertical-align: top;\n",
       "    }\n",
       "\n",
       "    .dataframe thead th {\n",
       "        text-align: right;\n",
       "    }\n",
       "</style>\n",
       "<table border=\"1\" class=\"dataframe\">\n",
       "  <thead>\n",
       "    <tr style=\"text-align: right;\">\n",
       "      <th></th>\n",
       "      <th>summary</th>\n",
       "      <th>full_text</th>\n",
       "      <th>url</th>\n",
       "      <th>parent_url</th>\n",
       "    </tr>\n",
       "  </thead>\n",
       "  <tbody>\n",
       "    <tr>\n",
       "      <th>0</th>\n",
       "      <td>Orange Cyberdefense, a Paris, France-based cyb...</td>\n",
       "      <td>Orange Cyberdefense, a Paris, France-based cyb...</td>\n",
       "      <td>https://www.finsmes.com/2022/11/orange-cyberde...</td>\n",
       "      <td>https://www.finsmes.com/</td>\n",
       "    </tr>\n",
       "    <tr>\n",
       "      <th>1</th>\n",
       "      <td>Validic Inc., a Durham, NC-based digital healt...</td>\n",
       "      <td>Validic Inc., a Durham, NC-based digital healt...</td>\n",
       "      <td>https://www.finsmes.com/2022/11/validic-raises...</td>\n",
       "      <td>https://www.finsmes.com/</td>\n",
       "    </tr>\n",
       "    <tr>\n",
       "      <th>2</th>\n",
       "      <td>Sandvik, a Stockholm, Sweden-based engineering...</td>\n",
       "      <td>Sandvik, a Stockholm, Sweden-based engineering...</td>\n",
       "      <td>https://www.finsmes.com/2022/11/sandvik-to-acq...</td>\n",
       "      <td>https://www.finsmes.com/</td>\n",
       "    </tr>\n",
       "    <tr>\n",
       "      <th>3</th>\n",
       "      <td>ID Images, a Brunswick, OH-based provider of p...</td>\n",
       "      <td>ID Images, a Brunswick, OH-based provider of p...</td>\n",
       "      <td>https://www.finsmes.com/2022/11/id-images-acqu...</td>\n",
       "      <td>https://www.finsmes.com/</td>\n",
       "    </tr>\n",
       "    <tr>\n",
       "      <th>4</th>\n",
       "      <td>Let’s explore four key ways that paying off st...</td>\n",
       "      <td>If you’re feeling the burden of student loan d...</td>\n",
       "      <td>https://www.finsmes.com/2022/11/4-ways-paying-...</td>\n",
       "      <td>https://www.finsmes.com/</td>\n",
       "    </tr>\n",
       "    <tr>\n",
       "      <th>...</th>\n",
       "      <td>...</td>\n",
       "      <td>...</td>\n",
       "      <td>...</td>\n",
       "      <td>...</td>\n",
       "    </tr>\n",
       "    <tr>\n",
       "      <th>728</th>\n",
       "      <td>Clerkenwell Health, a London, UK-based clinica...</td>\n",
       "      <td>Clerkenwell Health, a London, UK-based clinica...</td>\n",
       "      <td>https://www.finsmes.com/2022/10/clerkenwell-cl...</td>\n",
       "      <td>https://www.finsmes.com/older-posts/page/49</td>\n",
       "    </tr>\n",
       "    <tr>\n",
       "      <th>729</th>\n",
       "      <td>GridBeyond, a Dublin, Ireland-based provider o...</td>\n",
       "      <td>GridBeyond, a Dublin, Ireland-based provider o...</td>\n",
       "      <td>https://www.finsmes.com/2022/10/gridbeyond-rai...</td>\n",
       "      <td>https://www.finsmes.com/older-posts/page/49</td>\n",
       "    </tr>\n",
       "    <tr>\n",
       "      <th>730</th>\n",
       "      <td>CYBR Magazine, a London, UK-based provider of ...</td>\n",
       "      <td>CYBR Magazine, a London, UK-based provider of ...</td>\n",
       "      <td>https://www.finsmes.com/2022/10/cybr-magazine-...</td>\n",
       "      <td>https://www.finsmes.com/older-posts/page/49</td>\n",
       "    </tr>\n",
       "    <tr>\n",
       "      <th>731</th>\n",
       "      <td>Next Level Solutions, a Springfield, MO-based ...</td>\n",
       "      <td>Next Level Solutions, a Springfield, MO-based ...</td>\n",
       "      <td>https://www.finsmes.com/2022/10/next-level-sol...</td>\n",
       "      <td>https://www.finsmes.com/older-posts/page/49</td>\n",
       "    </tr>\n",
       "    <tr>\n",
       "      <th>732</th>\n",
       "      <td>Alva Labs, a Stockholm, Sweden-based provider ...</td>\n",
       "      <td>Alva Labs, a Stockholm, Sweden-based provider ...</td>\n",
       "      <td>https://www.finsmes.com/2022/10/alva-labs-acqu...</td>\n",
       "      <td>https://www.finsmes.com/older-posts/page/49</td>\n",
       "    </tr>\n",
       "  </tbody>\n",
       "</table>\n",
       "<p>733 rows × 4 columns</p>\n",
       "</div>"
      ],
      "text/plain": [
       "                                               summary  \\\n",
       "0    Orange Cyberdefense, a Paris, France-based cyb...   \n",
       "1    Validic Inc., a Durham, NC-based digital healt...   \n",
       "2    Sandvik, a Stockholm, Sweden-based engineering...   \n",
       "3    ID Images, a Brunswick, OH-based provider of p...   \n",
       "4    Let’s explore four key ways that paying off st...   \n",
       "..                                                 ...   \n",
       "728  Clerkenwell Health, a London, UK-based clinica...   \n",
       "729  GridBeyond, a Dublin, Ireland-based provider o...   \n",
       "730  CYBR Magazine, a London, UK-based provider of ...   \n",
       "731  Next Level Solutions, a Springfield, MO-based ...   \n",
       "732  Alva Labs, a Stockholm, Sweden-based provider ...   \n",
       "\n",
       "                                             full_text  \\\n",
       "0    Orange Cyberdefense, a Paris, France-based cyb...   \n",
       "1    Validic Inc., a Durham, NC-based digital healt...   \n",
       "2    Sandvik, a Stockholm, Sweden-based engineering...   \n",
       "3    ID Images, a Brunswick, OH-based provider of p...   \n",
       "4    If you’re feeling the burden of student loan d...   \n",
       "..                                                 ...   \n",
       "728  Clerkenwell Health, a London, UK-based clinica...   \n",
       "729  GridBeyond, a Dublin, Ireland-based provider o...   \n",
       "730  CYBR Magazine, a London, UK-based provider of ...   \n",
       "731  Next Level Solutions, a Springfield, MO-based ...   \n",
       "732  Alva Labs, a Stockholm, Sweden-based provider ...   \n",
       "\n",
       "                                                   url  \\\n",
       "0    https://www.finsmes.com/2022/11/orange-cyberde...   \n",
       "1    https://www.finsmes.com/2022/11/validic-raises...   \n",
       "2    https://www.finsmes.com/2022/11/sandvik-to-acq...   \n",
       "3    https://www.finsmes.com/2022/11/id-images-acqu...   \n",
       "4    https://www.finsmes.com/2022/11/4-ways-paying-...   \n",
       "..                                                 ...   \n",
       "728  https://www.finsmes.com/2022/10/clerkenwell-cl...   \n",
       "729  https://www.finsmes.com/2022/10/gridbeyond-rai...   \n",
       "730  https://www.finsmes.com/2022/10/cybr-magazine-...   \n",
       "731  https://www.finsmes.com/2022/10/next-level-sol...   \n",
       "732  https://www.finsmes.com/2022/10/alva-labs-acqu...   \n",
       "\n",
       "                                      parent_url  \n",
       "0                       https://www.finsmes.com/  \n",
       "1                       https://www.finsmes.com/  \n",
       "2                       https://www.finsmes.com/  \n",
       "3                       https://www.finsmes.com/  \n",
       "4                       https://www.finsmes.com/  \n",
       "..                                           ...  \n",
       "728  https://www.finsmes.com/older-posts/page/49  \n",
       "729  https://www.finsmes.com/older-posts/page/49  \n",
       "730  https://www.finsmes.com/older-posts/page/49  \n",
       "731  https://www.finsmes.com/older-posts/page/49  \n",
       "732  https://www.finsmes.com/older-posts/page/49  \n",
       "\n",
       "[733 rows x 4 columns]"
      ]
     },
     "execution_count": 183,
     "metadata": {},
     "output_type": "execute_result"
    }
   ],
   "source": [
    "df"
   ]
  },
  {
   "cell_type": "code",
   "execution_count": null,
   "id": "46656c27",
   "metadata": {},
   "outputs": [],
   "source": []
  },
  {
   "cell_type": "code",
   "execution_count": 184,
   "id": "5c841976",
   "metadata": {},
   "outputs": [],
   "source": [
    "df.to_csv(\"financialRS.csv\")"
   ]
  },
  {
   "cell_type": "markdown",
   "id": "c1f5c503",
   "metadata": {},
   "source": [
    "---"
   ]
  },
  {
   "cell_type": "markdown",
   "id": "5d8481bf",
   "metadata": {},
   "source": [
    "# Tech"
   ]
  },
  {
   "cell_type": "code",
   "execution_count": 219,
   "id": "aac3a76a",
   "metadata": {},
   "outputs": [],
   "source": [
    "def scrapeTech(url): \n",
    "\tresponse = requests.get(url) \n",
    "\tsoup = BeautifulSoup(response.text, \"html.parser\") \n",
    "\tl = soup.findAll('h2',attrs={'class':\"entry-title\"})\n",
    "\treturn [el.find('a').get('href') for el in l]"
   ]
  },
  {
   "cell_type": "code",
   "execution_count": 220,
   "id": "1fe3e63b",
   "metadata": {},
   "outputs": [],
   "source": [
    "\n",
    "total_list = []\n",
    "total_list.append('https://shorttermrentalz.com/category/news/technology-news/')\n",
    "#getting 50 urls from finsme, majority of them are financial relationships, some tech and people rs can be involved.\n",
    "for i in range(2,25):\n",
    "    a = 'https://shorttermrentalz.com/category/news/technology-news/page/' + str(i)\n",
    "    total_list.append(a)\n"
   ]
  },
  {
   "cell_type": "code",
   "execution_count": 221,
   "id": "377d0868",
   "metadata": {},
   "outputs": [],
   "source": [
    "parent_url_list_tech = []\n",
    "sub_url_list_tech = []\n",
    "text_list_tech = []\n",
    "summary_list_tech = []\n",
    "\n",
    "for url in total_list:\n",
    "    l = scrapeTech(url)\n",
    "    for suburl in l:\n",
    "        parent_url_list_tech.append(url)\n",
    "        sub_url_list_tech.append(suburl)\n",
    "        article = Article(suburl, config=config)\n",
    "        article.download()\n",
    "        article.html\n",
    "        article.parse()\n",
    "        article.nlp()\n",
    "        text_list_tech.append(article.text)\n",
    "        summary_list_tech.append(article.summary)\n"
   ]
  },
  {
   "cell_type": "code",
   "execution_count": 223,
   "id": "6dc155cf",
   "metadata": {},
   "outputs": [
    {
     "data": {
      "text/plain": [
       "240"
      ]
     },
     "execution_count": 223,
     "metadata": {},
     "output_type": "execute_result"
    }
   ],
   "source": [
    "len(text_list_tech)"
   ]
  },
  {
   "cell_type": "code",
   "execution_count": 224,
   "id": "3157e2d0",
   "metadata": {},
   "outputs": [],
   "source": [
    "df1 = pd.DataFrame(list(zip(summary_list_tech, text_list_tech, sub_url_list_tech, parent_url_list_tech)),\n",
    "               columns =['summary', 'full_text','url', 'parent_url'])"
   ]
  },
  {
   "cell_type": "code",
   "execution_count": 230,
   "id": "20e3c0a6",
   "metadata": {},
   "outputs": [],
   "source": [
    "df1.to_csv(\"tech.csv\")"
   ]
  },
  {
   "cell_type": "code",
   "execution_count": 231,
   "id": "239bfea0",
   "metadata": {},
   "outputs": [
    {
     "data": {
      "text/plain": [
       "240"
      ]
     },
     "execution_count": 231,
     "metadata": {},
     "output_type": "execute_result"
    }
   ],
   "source": [
    "len(df1)"
   ]
  },
  {
   "cell_type": "code",
   "execution_count": 203,
   "id": "98cab756",
   "metadata": {},
   "outputs": [
    {
     "data": {
      "text/plain": [
       "'https://shorttermrentalz.com/news/operto-staymyway-acquisition/'"
      ]
     },
     "execution_count": 203,
     "metadata": {},
     "output_type": "execute_result"
    }
   ],
   "source": [
    "l[0].find('a').get('href')"
   ]
  },
  {
   "cell_type": "code",
   "execution_count": 15,
   "id": "0da34b17",
   "metadata": {},
   "outputs": [],
   "source": [
    "import pandas as pd\n",
    "from newspaper import Article\n",
    "from newspaper import Config\n",
    "user_agent = 'Mozilla/5.0 (Macintosh; Intel Mac OS X 10_11_5) AppleWebKit/537.36 (KHTML, like Gecko) Chrome/50.0.2661.102 Safari/537.36'\n",
    "\n",
    "config = Config()\n",
    "config.browser_user_agent = user_agent\n",
    "us1 = newspaper.build('https://www.finsmes.com/category/usa')\n",
    "for article in y.articles:\n",
    "    print(article.url)\n",
    "    url = 'https://www.finsmes.com/2022/11/highbrook-investors-closes-fund-iv-at-632m.html'\n",
    "    article = Article(url, config=config)\n",
    "    article.download()\n",
    "    article.html\n",
    "    article.parse()\n",
    "    article.text"
   ]
  },
  {
   "cell_type": "code",
   "execution_count": 16,
   "id": "07f833ec",
   "metadata": {},
   "outputs": [
    {
     "data": {
      "text/plain": [
       "'Mode, a San Mateo, CA-based IoT solutions provider, received an investment from Panasonic Kurashi Visionary Fund which brought total funding raised to date to $14.9M.\\n\\nLed by Gaku Ueda, CEO, Mode provides scalable IoT solutions that accelerate worksite digital transformation. By packaging IoT technologies that have been difficult to handle, the company offers cloud solutions that can be easily used by any company. The goal is to spread the use of worksite data in various industries.\\n\\nMode intends to use the funds to expand its business reach and development efforts, even strengthening the partnership with Panasonic. The company will provide support to the IoT/digital transformation of a wide range of business domains in which Panasonic is involved.\\n\\nIn 2021, Mode focused on expanding its business in Japan, enhancing customer support in the Japanese market as well as hiring more employees in the country.\\n\\nFinSMEs\\n\\n10/11/2022'"
      ]
     },
     "execution_count": 16,
     "metadata": {},
     "output_type": "execute_result"
    }
   ],
   "source": [
    "import pandas as pd\n",
    "from newspaper import Article\n",
    "from newspaper import Config\n",
    "user_agent = 'Mozilla/5.0 (Macintosh; Intel Mac OS X 10_11_5) AppleWebKit/537.36 (KHTML, like Gecko) Chrome/50.0.2661.102 Safari/537.36'\n",
    "\n",
    "config = Config()\n",
    "config.browser_user_agent = user_agent\n",
    "url = 'https://www.finsmes.com/2022/11/mode-raises-14-9m-in-total-funding.html'\n",
    "article = Article(url, config=config)\n",
    "article.download()\n",
    "article.html\n",
    "article.parse()\n",
    "article.text"
   ]
  },
  {
   "cell_type": "markdown",
   "id": "f1662784",
   "metadata": {},
   "source": [
    "df.head()"
   ]
  },
  {
   "cell_type": "code",
   "execution_count": 233,
   "id": "8183fe3b",
   "metadata": {},
   "outputs": [
    {
     "data": {
      "text/html": [
       "<div>\n",
       "<style scoped>\n",
       "    .dataframe tbody tr th:only-of-type {\n",
       "        vertical-align: middle;\n",
       "    }\n",
       "\n",
       "    .dataframe tbody tr th {\n",
       "        vertical-align: top;\n",
       "    }\n",
       "\n",
       "    .dataframe thead th {\n",
       "        text-align: right;\n",
       "    }\n",
       "</style>\n",
       "<table border=\"1\" class=\"dataframe\">\n",
       "  <thead>\n",
       "    <tr style=\"text-align: right;\">\n",
       "      <th></th>\n",
       "      <th>summary</th>\n",
       "      <th>full_text</th>\n",
       "      <th>url</th>\n",
       "      <th>parent_url</th>\n",
       "    </tr>\n",
       "  </thead>\n",
       "  <tbody>\n",
       "    <tr>\n",
       "      <th>0</th>\n",
       "      <td>Orange Cyberdefense, a Paris, France-based cyb...</td>\n",
       "      <td>Orange Cyberdefense, a Paris, France-based cyb...</td>\n",
       "      <td>https://www.finsmes.com/2022/11/orange-cyberde...</td>\n",
       "      <td>https://www.finsmes.com/</td>\n",
       "    </tr>\n",
       "    <tr>\n",
       "      <th>1</th>\n",
       "      <td>Validic Inc., a Durham, NC-based digital healt...</td>\n",
       "      <td>Validic Inc., a Durham, NC-based digital healt...</td>\n",
       "      <td>https://www.finsmes.com/2022/11/validic-raises...</td>\n",
       "      <td>https://www.finsmes.com/</td>\n",
       "    </tr>\n",
       "    <tr>\n",
       "      <th>2</th>\n",
       "      <td>Sandvik, a Stockholm, Sweden-based engineering...</td>\n",
       "      <td>Sandvik, a Stockholm, Sweden-based engineering...</td>\n",
       "      <td>https://www.finsmes.com/2022/11/sandvik-to-acq...</td>\n",
       "      <td>https://www.finsmes.com/</td>\n",
       "    </tr>\n",
       "    <tr>\n",
       "      <th>3</th>\n",
       "      <td>ID Images, a Brunswick, OH-based provider of p...</td>\n",
       "      <td>ID Images, a Brunswick, OH-based provider of p...</td>\n",
       "      <td>https://www.finsmes.com/2022/11/id-images-acqu...</td>\n",
       "      <td>https://www.finsmes.com/</td>\n",
       "    </tr>\n",
       "    <tr>\n",
       "      <th>4</th>\n",
       "      <td>Let’s explore four key ways that paying off st...</td>\n",
       "      <td>If you’re feeling the burden of student loan d...</td>\n",
       "      <td>https://www.finsmes.com/2022/11/4-ways-paying-...</td>\n",
       "      <td>https://www.finsmes.com/</td>\n",
       "    </tr>\n",
       "  </tbody>\n",
       "</table>\n",
       "</div>"
      ],
      "text/plain": [
       "                                             summary  \\\n",
       "0  Orange Cyberdefense, a Paris, France-based cyb...   \n",
       "1  Validic Inc., a Durham, NC-based digital healt...   \n",
       "2  Sandvik, a Stockholm, Sweden-based engineering...   \n",
       "3  ID Images, a Brunswick, OH-based provider of p...   \n",
       "4  Let’s explore four key ways that paying off st...   \n",
       "\n",
       "                                           full_text  \\\n",
       "0  Orange Cyberdefense, a Paris, France-based cyb...   \n",
       "1  Validic Inc., a Durham, NC-based digital healt...   \n",
       "2  Sandvik, a Stockholm, Sweden-based engineering...   \n",
       "3  ID Images, a Brunswick, OH-based provider of p...   \n",
       "4  If you’re feeling the burden of student loan d...   \n",
       "\n",
       "                                                 url                parent_url  \n",
       "0  https://www.finsmes.com/2022/11/orange-cyberde...  https://www.finsmes.com/  \n",
       "1  https://www.finsmes.com/2022/11/validic-raises...  https://www.finsmes.com/  \n",
       "2  https://www.finsmes.com/2022/11/sandvik-to-acq...  https://www.finsmes.com/  \n",
       "3  https://www.finsmes.com/2022/11/id-images-acqu...  https://www.finsmes.com/  \n",
       "4  https://www.finsmes.com/2022/11/4-ways-paying-...  https://www.finsmes.com/  "
      ]
     },
     "execution_count": 233,
     "metadata": {},
     "output_type": "execute_result"
    }
   ],
   "source": [
    "df.head()"
   ]
  },
  {
   "cell_type": "code",
   "execution_count": 243,
   "id": "dcde55e5",
   "metadata": {},
   "outputs": [
    {
     "data": {
      "text/plain": [
       "'Canada: Operto Guest Technologies, a provider of smart device automation and software-as-a-service [SAAS]-based software technologies for the global short-term and vacation rental, hotel and multifamily industries, has acquired STAYmyway, a smart hospitality technology company based in Murcia, Spain.\\n\\nFounded in 2014, STAYmyway has grown into a prominent technology provider throughout the European accommodation market. Last year, the company announced an exclusive partnership with Accor Hotels to provide the technology that powers the ‘Accor Key’ programme across its global network.\\n\\nWith Operto’s acquisition of STAYmyway, the company plans to accelerate the rollout of the programme, which encompasses Accor’s portfolio of over 5000 hotels, operating in more than 100 countries worldwide.\\n\\nSTAYmyway has also developed proprietary, patented hardware solutions that allow for old ‘offline’ locks to be upgraded to modern, BLE/Bluetooth-enabled locks without the prohibitive expense of replacing the original lock and subsequent door. The hardware solutions work across most major lock brands and provide hoteliers with the ability to enable a modern digital check-in experience for their customers, at a fraction of the cost of lock replacement.\\n\\nBy verifying and digitally checking in guests before they arrive at a property, operators can drastically reduce their staffing and guest administration burden, while allowing guests to access their room without stopping at the front desk. Now known as Operto BOOST, guests can check into a property in a “faster, cost effective and reliable” way, which will be welcome news for 97 per cent of US hotel operators who are reporting labour shortages.\\n\\nOperto CEO Steve Davis said: “We are building Operto to help our customers deliver better guest experiences through simple, and affordable, technology solutions. Our acquisition of STAYmyway fits extremely well within this vision.\\n\\n“Operto BOOST will help bring pre-arrival guest verification, check-in and mobile entry, into the mainstream for accommodation providers worldwide. With the ability to reuse and upgrade existing hardware, at a fraction of the normal replacement cost, we are also helping operators meaningfully lower their carbon footprint, and keep perfectly good hardware out of the landfill.\\n\\n“2022 continues to be an absolutely huge year of growth at Operto, in terms of revenue, reach into new accommodation verticals, and the launching of new products and services to delight our customers.\\n\\n“Looking forward, STAYmyway, with its breakthrough technology and amazing engineering team, will only give more momentum to our business by increasing our reach and putting yet another tool in our kit to help customers improve their operations and satisfy their guests,” he added.\\n\\n\\n\\nSTAYmyway CEO Faustino Fernandez said: “The entire team at STAYmyway couldn’t be more excited about continuing our collective journey with Operto. We share in their vision of enabling incredible guest experiences, through technology that surprises and delights the customer, while removing common day-to-day operational challenges from the owner.\\n\\n“Adding our proprietary hardware and software expertise, into an established industry leader like Operto, paves the way for even better solutions and support for our customers around the world.\\n\\n“Operto already has an incredible reputation for delivering best-in-class technology solutions, to hotels, short-term and vacation rentals across the world, and our team is committed to continuing to deliver this level of excellence to our customers,” he added.\\n\\nEarlier this year, Vancouver-based Operto raised $12 million in a Series A funding round led by venture capital firm FUSE, with follow-on investments from Watchfire Venturers, BlackPines Capital Partners and other prominent investment groups. At the time, the company said that it would use the financing to further accelerate the development of its Connect™ operating system, and continue its expansion across all accommodation verticals and into new geographies.'"
      ]
     },
     "execution_count": 243,
     "metadata": {},
     "output_type": "execute_result"
    }
   ],
   "source": [
    "df1.head()['full_text'][0]"
   ]
  },
  {
   "cell_type": "code",
   "execution_count": 236,
   "id": "b0aaafd5",
   "metadata": {},
   "outputs": [],
   "source": [
    "result = pd.concat([df1, df])"
   ]
  },
  {
   "cell_type": "markdown",
   "id": "f45a061f",
   "metadata": {},
   "source": []
  },
  {
   "cell_type": "code",
   "execution_count": 238,
   "id": "5d047d5c",
   "metadata": {},
   "outputs": [],
   "source": [
    "result.to_csv('unlabeled.csv')"
   ]
  },
  {
   "cell_type": "code",
   "execution_count": 241,
   "id": "fb7c9a3f",
   "metadata": {},
   "outputs": [],
   "source": [
    "result_copy = result.copy()"
   ]
  },
  {
   "cell_type": "code",
   "execution_count": 250,
   "id": "437802ac",
   "metadata": {},
   "outputs": [
    {
     "data": {
      "text/plain": [
       "486.5"
      ]
     },
     "execution_count": 250,
     "metadata": {},
     "output_type": "execute_result"
    }
   ],
   "source": [
    "len(result)/2"
   ]
  },
  {
   "cell_type": "code",
   "execution_count": null,
   "id": "f50b5ae4",
   "metadata": {},
   "outputs": [],
   "source": []
  },
  {
   "cell_type": "markdown",
   "id": "db40cfa1",
   "metadata": {},
   "source": [
    "# Splitting\n",
    "---\n",
    "getting 480 articles"
   ]
  },
  {
   "cell_type": "code",
   "execution_count": 324,
   "id": "6b2992da",
   "metadata": {},
   "outputs": [],
   "source": [
    "df_splitted = result[:480]\n",
    "df_splitted = df_splitted.reset_index()\n",
    "df_splitted['article_index'] = range(0, len(df_splitted))"
   ]
  },
  {
   "cell_type": "code",
   "execution_count": 326,
   "id": "9530bff8",
   "metadata": {},
   "outputs": [],
   "source": [
    "df_splitted = df_splitted.drop('index', axis = 1)"
   ]
  },
  {
   "cell_type": "code",
   "execution_count": 345,
   "id": "69e1193e",
   "metadata": {},
   "outputs": [
    {
     "data": {
      "text/plain": [
       "['1.4 billion', 'HAHAHA']"
      ]
     },
     "execution_count": 345,
     "metadata": {},
     "output_type": "execute_result"
    }
   ],
   "source": [
    "a =\"1.4 billion. HAHAHA\"\n",
    "a1 = re.split('[\".\"][^0-9]', a)\n",
    "a1"
   ]
  },
  {
   "cell_type": "code",
   "execution_count": null,
   "id": "27cfacaf",
   "metadata": {},
   "outputs": [],
   "source": [
    "\"(?<=[a-z])\\\\.\\\\s+\""
   ]
  },
  {
   "cell_type": "code",
   "execution_count": 372,
   "id": "48ca35f2",
   "metadata": {},
   "outputs": [],
   "source": [
    "res = df_splitted.set_index(['summary', 'url','parent_url', 'article_index']).apply(lambda x: x.str.split(\"(?<=[a-z])\\\\.\\\\s+\").explode()).reset_index()"
   ]
  },
  {
   "cell_type": "code",
   "execution_count": 373,
   "id": "cd6b6fd7",
   "metadata": {},
   "outputs": [
    {
     "data": {
      "text/html": [
       "<div>\n",
       "<style scoped>\n",
       "    .dataframe tbody tr th:only-of-type {\n",
       "        vertical-align: middle;\n",
       "    }\n",
       "\n",
       "    .dataframe tbody tr th {\n",
       "        vertical-align: top;\n",
       "    }\n",
       "\n",
       "    .dataframe thead th {\n",
       "        text-align: right;\n",
       "    }\n",
       "</style>\n",
       "<table border=\"1\" class=\"dataframe\">\n",
       "  <thead>\n",
       "    <tr style=\"text-align: right;\">\n",
       "      <th></th>\n",
       "      <th>level_0</th>\n",
       "      <th>index</th>\n",
       "      <th>summary</th>\n",
       "      <th>url</th>\n",
       "      <th>parent_url</th>\n",
       "      <th>article_index</th>\n",
       "      <th>full_text</th>\n",
       "    </tr>\n",
       "  </thead>\n",
       "  <tbody>\n",
       "    <tr>\n",
       "      <th>0</th>\n",
       "      <td>0</td>\n",
       "      <td>0</td>\n",
       "      <td>Canada: Operto Guest Technologies, a provider ...</td>\n",
       "      <td>https://shorttermrentalz.com/news/operto-staym...</td>\n",
       "      <td>https://shorttermrentalz.com/category/news/tec...</td>\n",
       "      <td>0</td>\n",
       "      <td>Canada: Operto Guest Technologies, a provider ...</td>\n",
       "    </tr>\n",
       "    <tr>\n",
       "      <th>1</th>\n",
       "      <td>1</td>\n",
       "      <td>1</td>\n",
       "      <td>Canada: Operto Guest Technologies, a provider ...</td>\n",
       "      <td>https://shorttermrentalz.com/news/operto-staym...</td>\n",
       "      <td>https://shorttermrentalz.com/category/news/tec...</td>\n",
       "      <td>0</td>\n",
       "      <td>Founded in 2014, STAYmyway has grown into a pr...</td>\n",
       "    </tr>\n",
       "    <tr>\n",
       "      <th>2</th>\n",
       "      <td>2</td>\n",
       "      <td>2</td>\n",
       "      <td>Canada: Operto Guest Technologies, a provider ...</td>\n",
       "      <td>https://shorttermrentalz.com/news/operto-staym...</td>\n",
       "      <td>https://shorttermrentalz.com/category/news/tec...</td>\n",
       "      <td>0</td>\n",
       "      <td>Last year, the company announced an exclusive ...</td>\n",
       "    </tr>\n",
       "    <tr>\n",
       "      <th>3</th>\n",
       "      <td>3</td>\n",
       "      <td>3</td>\n",
       "      <td>Canada: Operto Guest Technologies, a provider ...</td>\n",
       "      <td>https://shorttermrentalz.com/news/operto-staym...</td>\n",
       "      <td>https://shorttermrentalz.com/category/news/tec...</td>\n",
       "      <td>0</td>\n",
       "      <td>With Operto’s acquisition of STAYmyway, the co...</td>\n",
       "    </tr>\n",
       "    <tr>\n",
       "      <th>4</th>\n",
       "      <td>4</td>\n",
       "      <td>4</td>\n",
       "      <td>Canada: Operto Guest Technologies, a provider ...</td>\n",
       "      <td>https://shorttermrentalz.com/news/operto-staym...</td>\n",
       "      <td>https://shorttermrentalz.com/category/news/tec...</td>\n",
       "      <td>0</td>\n",
       "      <td>STAYmyway has also developed proprietary, pate...</td>\n",
       "    </tr>\n",
       "    <tr>\n",
       "      <th>...</th>\n",
       "      <td>...</td>\n",
       "      <td>...</td>\n",
       "      <td>...</td>\n",
       "      <td>...</td>\n",
       "      <td>...</td>\n",
       "      <td>...</td>\n",
       "      <td>...</td>\n",
       "    </tr>\n",
       "    <tr>\n",
       "      <th>4942</th>\n",
       "      <td>5154</td>\n",
       "      <td>5164</td>\n",
       "      <td>Concerto Biosciences, a Cambridge, MA-based bi...</td>\n",
       "      <td>https://www.finsmes.com/2022/11/concerto-biosc...</td>\n",
       "      <td>https://www.finsmes.com/older-posts/page/17</td>\n",
       "      <td>479</td>\n",
       "      <td>A kChip prototype was invented by Dr</td>\n",
       "    </tr>\n",
       "    <tr>\n",
       "      <th>4943</th>\n",
       "      <td>5155</td>\n",
       "      <td>5165</td>\n",
       "      <td>Concerto Biosciences, a Cambridge, MA-based bi...</td>\n",
       "      <td>https://www.finsmes.com/2022/11/concerto-biosc...</td>\n",
       "      <td>https://www.finsmes.com/older-posts/page/17</td>\n",
       "      <td>479</td>\n",
       "      <td>Jared Kehe, Dr</td>\n",
       "    </tr>\n",
       "    <tr>\n",
       "      <th>4944</th>\n",
       "      <td>5156</td>\n",
       "      <td>5166</td>\n",
       "      <td>Concerto Biosciences, a Cambridge, MA-based bi...</td>\n",
       "      <td>https://www.finsmes.com/2022/11/concerto-biosc...</td>\n",
       "      <td>https://www.finsmes.com/older-posts/page/17</td>\n",
       "      <td>479</td>\n",
       "      <td>Cheri Ackerman and others at MIT and the Broad...</td>\n",
       "    </tr>\n",
       "    <tr>\n",
       "      <th>4945</th>\n",
       "      <td>5157</td>\n",
       "      <td>5167</td>\n",
       "      <td>Concerto Biosciences, a Cambridge, MA-based bi...</td>\n",
       "      <td>https://www.finsmes.com/2022/11/concerto-biosc...</td>\n",
       "      <td>https://www.finsmes.com/older-posts/page/17</td>\n",
       "      <td>479</td>\n",
       "      <td>Bernardo Cervantes cofounded the company in 20...</td>\n",
       "    </tr>\n",
       "    <tr>\n",
       "      <th>4946</th>\n",
       "      <td>5158</td>\n",
       "      <td>5168</td>\n",
       "      <td>Concerto Biosciences, a Cambridge, MA-based bi...</td>\n",
       "      <td>https://www.finsmes.com/2022/11/concerto-biosc...</td>\n",
       "      <td>https://www.finsmes.com/older-posts/page/17</td>\n",
       "      <td>479</td>\n",
       "      <td>By taming the pathogenic behaviors of Staphylo...</td>\n",
       "    </tr>\n",
       "  </tbody>\n",
       "</table>\n",
       "<p>4947 rows × 7 columns</p>\n",
       "</div>"
      ],
      "text/plain": [
       "      level_0  index                                            summary  \\\n",
       "0           0      0  Canada: Operto Guest Technologies, a provider ...   \n",
       "1           1      1  Canada: Operto Guest Technologies, a provider ...   \n",
       "2           2      2  Canada: Operto Guest Technologies, a provider ...   \n",
       "3           3      3  Canada: Operto Guest Technologies, a provider ...   \n",
       "4           4      4  Canada: Operto Guest Technologies, a provider ...   \n",
       "...       ...    ...                                                ...   \n",
       "4942     5154   5164  Concerto Biosciences, a Cambridge, MA-based bi...   \n",
       "4943     5155   5165  Concerto Biosciences, a Cambridge, MA-based bi...   \n",
       "4944     5156   5166  Concerto Biosciences, a Cambridge, MA-based bi...   \n",
       "4945     5157   5167  Concerto Biosciences, a Cambridge, MA-based bi...   \n",
       "4946     5158   5168  Concerto Biosciences, a Cambridge, MA-based bi...   \n",
       "\n",
       "                                                    url  \\\n",
       "0     https://shorttermrentalz.com/news/operto-staym...   \n",
       "1     https://shorttermrentalz.com/news/operto-staym...   \n",
       "2     https://shorttermrentalz.com/news/operto-staym...   \n",
       "3     https://shorttermrentalz.com/news/operto-staym...   \n",
       "4     https://shorttermrentalz.com/news/operto-staym...   \n",
       "...                                                 ...   \n",
       "4942  https://www.finsmes.com/2022/11/concerto-biosc...   \n",
       "4943  https://www.finsmes.com/2022/11/concerto-biosc...   \n",
       "4944  https://www.finsmes.com/2022/11/concerto-biosc...   \n",
       "4945  https://www.finsmes.com/2022/11/concerto-biosc...   \n",
       "4946  https://www.finsmes.com/2022/11/concerto-biosc...   \n",
       "\n",
       "                                             parent_url  article_index  \\\n",
       "0     https://shorttermrentalz.com/category/news/tec...              0   \n",
       "1     https://shorttermrentalz.com/category/news/tec...              0   \n",
       "2     https://shorttermrentalz.com/category/news/tec...              0   \n",
       "3     https://shorttermrentalz.com/category/news/tec...              0   \n",
       "4     https://shorttermrentalz.com/category/news/tec...              0   \n",
       "...                                                 ...            ...   \n",
       "4942        https://www.finsmes.com/older-posts/page/17            479   \n",
       "4943        https://www.finsmes.com/older-posts/page/17            479   \n",
       "4944        https://www.finsmes.com/older-posts/page/17            479   \n",
       "4945        https://www.finsmes.com/older-posts/page/17            479   \n",
       "4946        https://www.finsmes.com/older-posts/page/17            479   \n",
       "\n",
       "                                              full_text  \n",
       "0     Canada: Operto Guest Technologies, a provider ...  \n",
       "1     Founded in 2014, STAYmyway has grown into a pr...  \n",
       "2     Last year, the company announced an exclusive ...  \n",
       "3     With Operto’s acquisition of STAYmyway, the co...  \n",
       "4     STAYmyway has also developed proprietary, pate...  \n",
       "...                                                 ...  \n",
       "4942               A kChip prototype was invented by Dr  \n",
       "4943                                     Jared Kehe, Dr  \n",
       "4944  Cheri Ackerman and others at MIT and the Broad...  \n",
       "4945  Bernardo Cervantes cofounded the company in 20...  \n",
       "4946  By taming the pathogenic behaviors of Staphylo...  \n",
       "\n",
       "[4947 rows x 7 columns]"
      ]
     },
     "execution_count": 373,
     "metadata": {},
     "output_type": "execute_result"
    }
   ],
   "source": [
    "res['length'] = res.full_text.str.len()\n",
    "res1 = res[res.length >= 5]\n",
    "res1 = res1.reset_index()\n",
    "res1['full_text'] = res1['full_text'].str.strip()\n",
    "res2 = res1[~res1['full_text'].str.match(\"FinSMEs\")]\n",
    "res2 = res2.reset_index()\n",
    "res2 = res2.drop('length', axis = 1)\n",
    "res2\n"
   ]
  },
  {
   "cell_type": "code",
   "execution_count": 374,
   "id": "4a82cc28",
   "metadata": {},
   "outputs": [],
   "source": [
    "#Total \n",
    "res2.to_csv('splitted.csv')"
   ]
  },
  {
   "cell_type": "code",
   "execution_count": 378,
   "id": "bf01588a",
   "metadata": {},
   "outputs": [
    {
     "data": {
      "text/plain": [
       "4947"
      ]
     },
     "execution_count": 378,
     "metadata": {},
     "output_type": "execute_result"
    }
   ],
   "source": [
    "len(res2)"
   ]
  },
  {
   "cell_type": "code",
   "execution_count": 413,
   "id": "a8769e50",
   "metadata": {},
   "outputs": [
    {
     "data": {
      "text/html": [
       "<div>\n",
       "<style scoped>\n",
       "    .dataframe tbody tr th:only-of-type {\n",
       "        vertical-align: middle;\n",
       "    }\n",
       "\n",
       "    .dataframe tbody tr th {\n",
       "        vertical-align: top;\n",
       "    }\n",
       "\n",
       "    .dataframe thead th {\n",
       "        text-align: right;\n",
       "    }\n",
       "</style>\n",
       "<table border=\"1\" class=\"dataframe\">\n",
       "  <thead>\n",
       "    <tr style=\"text-align: right;\">\n",
       "      <th></th>\n",
       "      <th>level_0</th>\n",
       "      <th>index</th>\n",
       "      <th>summary</th>\n",
       "      <th>url</th>\n",
       "      <th>parent_url</th>\n",
       "      <th>article_index</th>\n",
       "      <th>full_text</th>\n",
       "    </tr>\n",
       "  </thead>\n",
       "  <tbody>\n",
       "    <tr>\n",
       "      <th>0</th>\n",
       "      <td>0</td>\n",
       "      <td>0</td>\n",
       "      <td>Canada: Operto Guest Technologies, a provider ...</td>\n",
       "      <td>https://shorttermrentalz.com/news/operto-staym...</td>\n",
       "      <td>https://shorttermrentalz.com/category/news/tec...</td>\n",
       "      <td>0</td>\n",
       "      <td>Canada: Operto Guest Technologies, a provider ...</td>\n",
       "    </tr>\n",
       "    <tr>\n",
       "      <th>1</th>\n",
       "      <td>1</td>\n",
       "      <td>1</td>\n",
       "      <td>Canada: Operto Guest Technologies, a provider ...</td>\n",
       "      <td>https://shorttermrentalz.com/news/operto-staym...</td>\n",
       "      <td>https://shorttermrentalz.com/category/news/tec...</td>\n",
       "      <td>0</td>\n",
       "      <td>Founded in 2014, STAYmyway has grown into a pr...</td>\n",
       "    </tr>\n",
       "    <tr>\n",
       "      <th>2</th>\n",
       "      <td>2</td>\n",
       "      <td>2</td>\n",
       "      <td>Canada: Operto Guest Technologies, a provider ...</td>\n",
       "      <td>https://shorttermrentalz.com/news/operto-staym...</td>\n",
       "      <td>https://shorttermrentalz.com/category/news/tec...</td>\n",
       "      <td>0</td>\n",
       "      <td>Last year, the company announced an exclusive ...</td>\n",
       "    </tr>\n",
       "    <tr>\n",
       "      <th>3</th>\n",
       "      <td>3</td>\n",
       "      <td>3</td>\n",
       "      <td>Canada: Operto Guest Technologies, a provider ...</td>\n",
       "      <td>https://shorttermrentalz.com/news/operto-staym...</td>\n",
       "      <td>https://shorttermrentalz.com/category/news/tec...</td>\n",
       "      <td>0</td>\n",
       "      <td>With Operto’s acquisition of STAYmyway, the co...</td>\n",
       "    </tr>\n",
       "    <tr>\n",
       "      <th>4</th>\n",
       "      <td>4</td>\n",
       "      <td>4</td>\n",
       "      <td>Canada: Operto Guest Technologies, a provider ...</td>\n",
       "      <td>https://shorttermrentalz.com/news/operto-staym...</td>\n",
       "      <td>https://shorttermrentalz.com/category/news/tec...</td>\n",
       "      <td>0</td>\n",
       "      <td>STAYmyway has also developed proprietary, pate...</td>\n",
       "    </tr>\n",
       "    <tr>\n",
       "      <th>...</th>\n",
       "      <td>...</td>\n",
       "      <td>...</td>\n",
       "      <td>...</td>\n",
       "      <td>...</td>\n",
       "      <td>...</td>\n",
       "      <td>...</td>\n",
       "      <td>...</td>\n",
       "    </tr>\n",
       "    <tr>\n",
       "      <th>4942</th>\n",
       "      <td>5154</td>\n",
       "      <td>5164</td>\n",
       "      <td>Concerto Biosciences, a Cambridge, MA-based bi...</td>\n",
       "      <td>https://www.finsmes.com/2022/11/concerto-biosc...</td>\n",
       "      <td>https://www.finsmes.com/older-posts/page/17</td>\n",
       "      <td>479</td>\n",
       "      <td>A kChip prototype was invented by Dr</td>\n",
       "    </tr>\n",
       "    <tr>\n",
       "      <th>4943</th>\n",
       "      <td>5155</td>\n",
       "      <td>5165</td>\n",
       "      <td>Concerto Biosciences, a Cambridge, MA-based bi...</td>\n",
       "      <td>https://www.finsmes.com/2022/11/concerto-biosc...</td>\n",
       "      <td>https://www.finsmes.com/older-posts/page/17</td>\n",
       "      <td>479</td>\n",
       "      <td>Jared Kehe, Dr</td>\n",
       "    </tr>\n",
       "    <tr>\n",
       "      <th>4944</th>\n",
       "      <td>5156</td>\n",
       "      <td>5166</td>\n",
       "      <td>Concerto Biosciences, a Cambridge, MA-based bi...</td>\n",
       "      <td>https://www.finsmes.com/2022/11/concerto-biosc...</td>\n",
       "      <td>https://www.finsmes.com/older-posts/page/17</td>\n",
       "      <td>479</td>\n",
       "      <td>Cheri Ackerman and others at MIT and the Broad...</td>\n",
       "    </tr>\n",
       "    <tr>\n",
       "      <th>4945</th>\n",
       "      <td>5157</td>\n",
       "      <td>5167</td>\n",
       "      <td>Concerto Biosciences, a Cambridge, MA-based bi...</td>\n",
       "      <td>https://www.finsmes.com/2022/11/concerto-biosc...</td>\n",
       "      <td>https://www.finsmes.com/older-posts/page/17</td>\n",
       "      <td>479</td>\n",
       "      <td>Bernardo Cervantes cofounded the company in 20...</td>\n",
       "    </tr>\n",
       "    <tr>\n",
       "      <th>4946</th>\n",
       "      <td>5158</td>\n",
       "      <td>5168</td>\n",
       "      <td>Concerto Biosciences, a Cambridge, MA-based bi...</td>\n",
       "      <td>https://www.finsmes.com/2022/11/concerto-biosc...</td>\n",
       "      <td>https://www.finsmes.com/older-posts/page/17</td>\n",
       "      <td>479</td>\n",
       "      <td>By taming the pathogenic behaviors of Staphylo...</td>\n",
       "    </tr>\n",
       "  </tbody>\n",
       "</table>\n",
       "<p>4947 rows × 7 columns</p>\n",
       "</div>"
      ],
      "text/plain": [
       "      level_0  index                                            summary  \\\n",
       "0           0      0  Canada: Operto Guest Technologies, a provider ...   \n",
       "1           1      1  Canada: Operto Guest Technologies, a provider ...   \n",
       "2           2      2  Canada: Operto Guest Technologies, a provider ...   \n",
       "3           3      3  Canada: Operto Guest Technologies, a provider ...   \n",
       "4           4      4  Canada: Operto Guest Technologies, a provider ...   \n",
       "...       ...    ...                                                ...   \n",
       "4942     5154   5164  Concerto Biosciences, a Cambridge, MA-based bi...   \n",
       "4943     5155   5165  Concerto Biosciences, a Cambridge, MA-based bi...   \n",
       "4944     5156   5166  Concerto Biosciences, a Cambridge, MA-based bi...   \n",
       "4945     5157   5167  Concerto Biosciences, a Cambridge, MA-based bi...   \n",
       "4946     5158   5168  Concerto Biosciences, a Cambridge, MA-based bi...   \n",
       "\n",
       "                                                    url  \\\n",
       "0     https://shorttermrentalz.com/news/operto-staym...   \n",
       "1     https://shorttermrentalz.com/news/operto-staym...   \n",
       "2     https://shorttermrentalz.com/news/operto-staym...   \n",
       "3     https://shorttermrentalz.com/news/operto-staym...   \n",
       "4     https://shorttermrentalz.com/news/operto-staym...   \n",
       "...                                                 ...   \n",
       "4942  https://www.finsmes.com/2022/11/concerto-biosc...   \n",
       "4943  https://www.finsmes.com/2022/11/concerto-biosc...   \n",
       "4944  https://www.finsmes.com/2022/11/concerto-biosc...   \n",
       "4945  https://www.finsmes.com/2022/11/concerto-biosc...   \n",
       "4946  https://www.finsmes.com/2022/11/concerto-biosc...   \n",
       "\n",
       "                                             parent_url  article_index  \\\n",
       "0     https://shorttermrentalz.com/category/news/tec...              0   \n",
       "1     https://shorttermrentalz.com/category/news/tec...              0   \n",
       "2     https://shorttermrentalz.com/category/news/tec...              0   \n",
       "3     https://shorttermrentalz.com/category/news/tec...              0   \n",
       "4     https://shorttermrentalz.com/category/news/tec...              0   \n",
       "...                                                 ...            ...   \n",
       "4942        https://www.finsmes.com/older-posts/page/17            479   \n",
       "4943        https://www.finsmes.com/older-posts/page/17            479   \n",
       "4944        https://www.finsmes.com/older-posts/page/17            479   \n",
       "4945        https://www.finsmes.com/older-posts/page/17            479   \n",
       "4946        https://www.finsmes.com/older-posts/page/17            479   \n",
       "\n",
       "                                              full_text  \n",
       "0     Canada: Operto Guest Technologies, a provider ...  \n",
       "1     Founded in 2014, STAYmyway has grown into a pr...  \n",
       "2     Last year, the company announced an exclusive ...  \n",
       "3     With Operto’s acquisition of STAYmyway, the co...  \n",
       "4     STAYmyway has also developed proprietary, pate...  \n",
       "...                                                 ...  \n",
       "4942               A kChip prototype was invented by Dr  \n",
       "4943                                     Jared Kehe, Dr  \n",
       "4944  Cheri Ackerman and others at MIT and the Broad...  \n",
       "4945  Bernardo Cervantes cofounded the company in 20...  \n",
       "4946  By taming the pathogenic behaviors of Staphylo...  \n",
       "\n",
       "[4947 rows x 7 columns]"
      ]
     },
     "execution_count": 413,
     "metadata": {},
     "output_type": "execute_result"
    }
   ],
   "source": [
    "res2"
   ]
  },
  {
   "cell_type": "code",
   "execution_count": 417,
   "id": "d74a597b",
   "metadata": {},
   "outputs": [
    {
     "name": "stdout",
     "output_type": "stream",
     "text": [
      "lower100\n",
      "lower176\n",
      "lower252\n",
      "lower328\n",
      "lower404\n"
     ]
    }
   ],
   "source": [
    "first100 = res2[res2['article_index'] < 100]\n",
    "first100.to_csv('100unlabeled.csv')\n",
    "for k in range(1,6) :\n",
    "    temp =  res2[(res2['article_index'] < 100 + 76 * k ) & (res2['article_index'] >= 100 + 76*(k - 1))]\n",
    "    output = 'temp' + str(k) + '.csv'\n",
    "    temp.to_csv(output)"
   ]
  },
  {
   "cell_type": "markdown",
   "id": "30071918",
   "metadata": {},
   "source": [
    "# Draft "
   ]
  },
  {
   "cell_type": "code",
   "execution_count": 232,
   "id": "5f56400a",
   "metadata": {},
   "outputs": [],
   "source": [
    "# import pandas as pd\n",
    "# from newspaper import Article\n",
    "# from newspaper import Config\n",
    "# user_agent = 'Mozilla/5.0 (Macintosh; Intel Mac OS X 10_11_5) AppleWebKit/537.36 (KHTML, like Gecko) Chrome/50.0.2661.102 Safari/537.36'\n",
    "# config = Config()\n",
    "# config.browser_user_agent = user_agent\n",
    "# #df = pd.read_csv('Country_URL.csv')\n",
    "\n",
    "# done = 0\n",
    "# for i in df.index:\n",
    "#     if pd.isna(df.loc[i,'text']):\n",
    "#         url = df.loc[i,'link']\n",
    "#         article = Article(url, config=config)\n",
    "#         try:\n",
    "#             article.download()\n",
    "#             article.parse()\n",
    "#             if len(article.text)>0:\n",
    "#                 df.loc[i,'text'] = article.text\n",
    "#             else:\n",
    "#                 df.loc[i,'text'] = 'not found'\n",
    "#             done = done+1\n",
    "#             if done%100==0:    \n",
    "#                 outname = 'Country_URL_filled' + '.csv'\n",
    "#                 df.to_csv(outname)\n",
    "#                 current_time = datetime.now().strftime(\"%H:%M:%S\")\n",
    "#                 print(\"Time =\", current_time)\n",
    "#                 print(i)\n",
    "#         except Exception as e:\n",
    "#             continue\n",
    "#     else:\n",
    "#         pass"
   ]
  },
  {
   "cell_type": "code",
   "execution_count": 307,
   "id": "72257b41",
   "metadata": {},
   "outputs": [
    {
     "data": {
      "text/plain": [
       "'2” (ENS-002), is designed to rehabilitate the skin microbiome'"
      ]
     },
     "execution_count": 307,
     "metadata": {},
     "output_type": "execute_result"
    }
   ],
   "source": [
    "dddd = pd.read_csv('splitted.csv')\n",
    "dddd['full_text'][5766]"
   ]
  },
  {
   "cell_type": "markdown",
   "id": "fe811277",
   "metadata": {},
   "source": [
    "dddd = pd.read_csv('splitted.csv')"
   ]
  },
  {
   "cell_type": "code",
   "execution_count": 150,
   "id": "bf2a5fd0",
   "metadata": {},
   "outputs": [
    {
     "data": {
      "text/plain": [
       "['https://www.finsmes.com/2022/11/mem-raises-23-5m-in-funding.html',\n",
       " 'https://www.finsmes.com/2022/11/taurx-raises-additional-usd119m-in-funding.html',\n",
       " 'https://www.finsmes.com/2022/11/pets-table-raises-2m-in-seed-funding.html',\n",
       " 'https://www.finsmes.com/2022/11/pineapple-raises-1-1m-in-pre-seed-funding.html',\n",
       " 'https://www.finsmes.com/2022/11/welltheory-raises-7-2m-in-seed-funding.html',\n",
       " 'https://www.finsmes.com/2022/11/brightside-raises-33m-in-series-b-funding.html',\n",
       " 'https://www.finsmes.com/2022/11/elemental-machines-raises-41m-in-series-b-funding.html',\n",
       " 'https://www.finsmes.com/2022/11/breye-therapeutics-raises-eur4m-in-seed-funding.html',\n",
       " 'https://www.finsmes.com/2022/11/carteav-closes-6-5m-funding-round.html',\n",
       " 'https://www.finsmes.com/2022/11/highbrook-investors-closes-fund-iv-at-632m.html',\n",
       " 'https://www.finsmes.com/2022/11/directus-raises-7m-in-series-a-funding.html',\n",
       " 'https://www.finsmes.com/2022/11/the-different-types-of-igaming-software-available.html',\n",
       " 'https://www.finsmes.com/2022/11/keyo-raises-7m-in-funding.html',\n",
       " 'https://www.finsmes.com/2022/11/angeleye-health-raises-series-b-funding.html',\n",
       " 'https://www.finsmes.com/2022/11/rewst-raises-21-5m-in-series-a-funding.html']"
      ]
     },
     "execution_count": 150,
     "metadata": {},
     "output_type": "execute_result"
    }
   ],
   "source": [
    "from bs4 import BeautifulSoup\n",
    "l = []\n",
    "def scrape(url): \n",
    "\tresponse = requests.get(url) \n",
    "\tsoup = BeautifulSoup(response.text, \"html.parser\") \n",
    "\tl = soup.findAll('a',attrs={'class':\"post-thumbnail\"})\n",
    "\treturn [el.get('href') for el in l]\n",
    "\n",
    "l = scrape('https://www.finsmes.com/older-posts/page/2')\n",
    "l"
   ]
  },
  {
   "cell_type": "code",
   "execution_count": 148,
   "id": "fb55cc5a",
   "metadata": {},
   "outputs": [
    {
     "name": "stdout",
     "output_type": "stream",
     "text": [
      "https://www.finsmes.com/2022/11/mem-raises-23-5m-in-funding.html\n",
      "https://www.finsmes.com/2022/11/taurx-raises-additional-usd119m-in-funding.html\n",
      "https://www.finsmes.com/2022/11/pets-table-raises-2m-in-seed-funding.html\n",
      "https://www.finsmes.com/2022/11/pineapple-raises-1-1m-in-pre-seed-funding.html\n",
      "https://www.finsmes.com/2022/11/welltheory-raises-7-2m-in-seed-funding.html\n",
      "https://www.finsmes.com/2022/11/brightside-raises-33m-in-series-b-funding.html\n",
      "https://www.finsmes.com/2022/11/elemental-machines-raises-41m-in-series-b-funding.html\n",
      "https://www.finsmes.com/2022/11/breye-therapeutics-raises-eur4m-in-seed-funding.html\n",
      "https://www.finsmes.com/2022/11/carteav-closes-6-5m-funding-round.html\n",
      "https://www.finsmes.com/2022/11/highbrook-investors-closes-fund-iv-at-632m.html\n",
      "https://www.finsmes.com/2022/11/directus-raises-7m-in-series-a-funding.html\n",
      "https://www.finsmes.com/2022/11/the-different-types-of-igaming-software-available.html\n",
      "https://www.finsmes.com/2022/11/keyo-raises-7m-in-funding.html\n",
      "https://www.finsmes.com/2022/11/angeleye-health-raises-series-b-funding.html\n",
      "https://www.finsmes.com/2022/11/rewst-raises-21-5m-in-series-a-funding.html\n"
     ]
    }
   ],
   "source": [
    "for el in l:\n",
    "    \n",
    "    print(href)\n",
    "    "
   ]
  },
  {
   "cell_type": "markdown",
   "id": "a1f542fa",
   "metadata": {},
   "source": []
  },
  {
   "cell_type": "code",
   "execution_count": 143,
   "id": "d7989b32",
   "metadata": {},
   "outputs": [
    {
     "data": {
      "text/plain": [
       "bs4.element.Tag"
      ]
     },
     "execution_count": 143,
     "metadata": {},
     "output_type": "execute_result"
    }
   ],
   "source": [
    "type(l[0])"
   ]
  },
  {
   "cell_type": "code",
   "execution_count": 145,
   "id": "a4851219",
   "metadata": {},
   "outputs": [
    {
     "data": {
      "text/plain": [
       "'https://www.finsmes.com/2022/11/goco-io-raises-15m-in-funding.html'"
      ]
     },
     "execution_count": 145,
     "metadata": {},
     "output_type": "execute_result"
    }
   ],
   "source": [
    "l[0].get('href')"
   ]
  },
  {
   "cell_type": "code",
   "execution_count": null,
   "id": "36ab3179",
   "metadata": {},
   "outputs": [],
   "source": []
  }
 ],
 "metadata": {
  "kernelspec": {
   "display_name": "Python 3.8.9 64-bit",
   "language": "python",
   "name": "python3"
  },
  "language_info": {
   "codemirror_mode": {
    "name": "ipython",
    "version": 3
   },
   "file_extension": ".py",
   "mimetype": "text/x-python",
   "name": "python",
   "nbconvert_exporter": "python",
   "pygments_lexer": "ipython3",
   "version": "3.8.9"
  },
  "vscode": {
   "interpreter": {
    "hash": "31f2aee4e71d21fbe5cf8b01ff0e069b9275f58929596ceb00d14d90e3e16cd6"
   }
  }
 },
 "nbformat": 4,
 "nbformat_minor": 5
}
