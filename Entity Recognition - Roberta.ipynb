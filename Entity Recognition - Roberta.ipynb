{
 "cells": [
  {
   "cell_type": "code",
   "execution_count": 15,
   "metadata": {},
   "outputs": [],
   "source": [
    "import csv\n",
    "import spacy\n",
    "import en_core_web_sm\n",
    "from bs4 import BeautifulSoup\n",
    "import requests\n",
    "import re"
   ]
  },
  {
   "cell_type": "code",
   "execution_count": 44,
   "metadata": {},
   "outputs": [],
   "source": [
    "# get all the distict urls in the train data\n",
    "urls = set()\n",
    "train_compA_compB_url = []\n",
    "with open(\"./train_data_arboretica.csv\",'r', encoding='UTF-8') as file:\n",
    "    csv_reader = csv.reader(file)\n",
    "    next(csv_reader)  # skip the header\n",
    "    for row in csv_reader:\n",
    "        row_url = row[3]\n",
    "        if row_url.lstrip().rstrip() == 'https://www.patentlyapple.com/patently-apple/2016/11/taiwans-largest-industrial-conglomerate-now-considering-opening-plants-in-america-if-trump-reintroduces-tariffs.html':\n",
    "            continue\n",
    "        train_compA_compB_url.append([row[0].lower(),row[1].lower(),row_url])\n",
    "        if ';' in row_url:\n",
    "            multiple_urls = row_url.split(';')  # split the urls which are combined together in train data\n",
    "            for x in multiple_urls:\n",
    "                if 'https://www.patentlyapple.com/patently-apple/2016/11/taiwans-largest-industrial-conglomerate-now-considering-opening-plants-in-america-if-trump-reintroduces-tariffs.html' in x:\n",
    "                    continue\n",
    "                urls.add(x)\n",
    "        else:\n",
    "            urls.add(row_url)\n",
    "urls = list(urls)"
   ]
  },
  {
   "cell_type": "code",
   "execution_count": 45,
   "metadata": {},
   "outputs": [
    {
     "name": "stdout",
     "output_type": "stream",
     "text": [
      "329\n",
      "275\n"
     ]
    }
   ],
   "source": [
    "print(len(train_compA_compB_url))  # number of training data\n",
    "print(len(urls)) # number of distinct urls"
   ]
  },
  {
   "cell_type": "code",
   "execution_count": 35,
   "metadata": {},
   "outputs": [],
   "source": [
    "def url_to_string(url):\n",
    "    res = requests.get(url)\n",
    "    html = res.text\n",
    "    soup = BeautifulSoup(html, 'html5lib')\n",
    "    for script in soup([\"script\", \"style\", 'aside']):\n",
    "        script.extract()\n",
    "    return \" \".join(re.split(r'[\\n\\t]+', soup.get_text()))"
   ]
  },
  {
   "cell_type": "code",
   "execution_count": 38,
   "metadata": {},
   "outputs": [
    {
     "name": "stderr",
     "output_type": "stream",
     "text": [
      "Token indices sequence length is longer than the specified maximum sequence length for this model (2792 > 512). Running this sequence through the model will result in indexing errors\n"
     ]
    }
   ],
   "source": [
    "roberta_nlp  = spacy.load('en_core_web_trf', disable=['tok2vec','tagger','parser','attribute_ruler','lemmatizer'])\n",
    "url_orgs = dict()\n",
    "for url in urls:\n",
    "    ny_bb = url_to_string(url)\n",
    "#     if (len(ny_bb)>512):  # Token indices maximum sequence length is 512\n",
    "#         ny_bb = ny_bb[:512]\n",
    "    article = roberta_nlp(ny_bb)\n",
    "    orgs = list(set([x.text.lower() for x in article.ents if x.label_ == 'ORG' and len(x.text) < 100]))\n",
    "    url_orgs[url] = orgs"
   ]
  },
  {
   "cell_type": "code",
   "execution_count": 84,
   "metadata": {
    "scrolled": false
   },
   "outputs": [
    {
     "name": "stdout",
     "output_type": "stream",
     "text": [
      "Number of failed request to get html: 30\n"
     ]
    }
   ],
   "source": [
    "failure = 0\n",
    "failure_data = [] # store unrecognized training data entities\n",
    "for data in train_compA_compB_url:  # check whether both company A and B were recognized in the corresponding article \n",
    "    company_list = []\n",
    "    if ';' in data[2]:\n",
    "        for url_1 in data[2].split(';'):\n",
    "            if 'https://www.patentlyapple.com/patently-apple/2016/11/taiwans-largest-industrial-conglomerate-now-considering-opening-plants-in-america-if-trump-reintroduces-tariffs.html' in url_1:\n",
    "                    continue\n",
    "            company_list += url_orgs[url_1]\n",
    "    else: \n",
    "        company_list += url_orgs[data[2]]\n",
    "        \n",
    "    # some company names are shorter in the traning data than in the original article, \n",
    "    # for example, 'fortino capital' in training data vs 'fortino capital partners' in the article\n",
    "    companies = \",\".join(company_list)  \n",
    "    if (data[0] not in companies or data[1] not in companies) and len(companies)!=0:\n",
    "        failure_data.append([data[0],data[1],data[2],companies])\n",
    "        failure += 1\n",
    "\n",
    "# exclude those training data for which we cannot get html or the website is invalid\n",
    "num_request_failure = len([x for x in url_orgs.values() if len(x)==0])\n",
    "print('Number of failed request to get html: ' + (str) (num_request_failure))"
   ]
  },
  {
   "cell_type": "code",
   "execution_count": 85,
   "metadata": {},
   "outputs": [
    {
     "name": "stdout",
     "output_type": "stream",
     "text": [
      "Number of unrecognized training data: 59\n",
      "Number of valid training data: 299\n",
      "True Positive Rate: 0.8206686930091185\n"
     ]
    }
   ],
   "source": [
    "print('Number of unrecognized training data: ' + (str) (failure))\n",
    "print('Number of valid training data: ' + (str) (len(train_compA_compB_url) - num_request_failure))\n",
    "print('True Positive Rate: ' + (str) (1 - failure/len(train_compA_compB_url)))"
   ]
  },
  {
   "cell_type": "code",
   "execution_count": 86,
   "metadata": {},
   "outputs": [
    {
     "name": "stdout",
     "output_type": "stream",
     "text": [
      "Company A: fortino capital\n",
      "Company B: melita\n",
      "Url: https://www.capacitymedia.com/articles/3824316/eqt-adds-to-telecoms-portfolio-by-buying-german-fibre-network-inexio-for-1bn\n",
      "Recognized entities: cloudfront\n",
      "\n",
      "Company A: fortino capital\n",
      "Company B: eqt\n",
      "Url: https://www.capacitymedia.com/articles/3824316/eqt-adds-to-telecoms-portfolio-by-buying-german-fibre-network-inexio-for-1bn\n",
      "Recognized entities: cloudfront\n",
      "\n",
      "Company A: fortino capital\n",
      "Company B: duco sickinghe\n",
      "Url: https://trends.knack.be/economie/bedrijven/brusselse-start-up-aproplan-wil-groeien-met-fusie-ervaren-ceo-en-vers-kapitaal/article-normal-1423401.html\n",
      "Recognized entities: bouygues immobilier,fortino capital,bouwbedrijf matexi,spreds,deense,letsbuild,aproplan,inventures,genieblet,telenet,treatwell,just eat,de deense multinational solar,het deense geniebelt,crunchbase,geniebelt,geniebelt vooral scandinavië\n",
      "\n",
      "Company A: fortino capital\n",
      "Company B: vï¿½ï¿½ï¿½ï¿½ï¿½ï¿\n",
      "Url: https://www.finsmes.com/2017/03/veronique-peeters-joins-fortino-capital-as-investment-manager.html\n",
      "Recognized entities: storyoben,fortino capital,slick software solutions,softbank ventures,trendminer,buybay,finsmes zaventem,bloomon,pwc transaction services,facebook,e-capital equity management,finsmes ltd,teamleader,e,insided,-capital,linkedin,nft\n",
      "\n",
      "Company A: fortino capital\n",
      "Company B: melita apax partners\n",
      "Url: https://timesofmalta.com/articles/view/apax-partners-and-fortino-capital-complete-the-acquisition-of-melita.603333\n",
      "Recognized entities: outremer telecom,fortino capital,melita,numericable belgium & luxembourg,group,blackrock communications,primacom,oni,telenet,apax partners,times of malta,the gasan group,mc venture partners,gmt communications partners,cabovisão\n",
      "\n"
     ]
    }
   ],
   "source": [
    "# examples of entities that were not recognized\n",
    "for i in range(5):\n",
    "    print('Company A: ' + failure_data[i][0])\n",
    "    print('Company B: ' + failure_data[i][1])\n",
    "    print('Url: ' + failure_data[i][2])\n",
    "    print('Recognized entities: ' + failure_data[i][3] + '\\n')"
   ]
  },
  {
   "cell_type": "code",
   "execution_count": null,
   "metadata": {},
   "outputs": [],
   "source": []
  }
 ],
 "metadata": {
  "kernelspec": {
   "display_name": "Python 3",
   "language": "python",
   "name": "python3"
  },
  "language_info": {
   "codemirror_mode": {
    "name": "ipython",
    "version": 3
   },
   "file_extension": ".py",
   "mimetype": "text/x-python",
   "name": "python",
   "nbconvert_exporter": "python",
   "pygments_lexer": "ipython3",
   "version": "3.8.5"
  }
 },
 "nbformat": 4,
 "nbformat_minor": 4
}
